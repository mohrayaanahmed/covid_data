{
 "cells": [
  {
   "cell_type": "code",
   "execution_count": 1,
   "metadata": {},
   "outputs": [],
   "source": [
    "# IMPORT PANDAS\n",
    "import pandas as pd\n",
    "import matplotlib.pyplot as plt\n",
    "import numpy as np\n",
    "\n",
    "# READ THE CSV FILE\n",
    "df = pd.read_csv(\"WHO-COVID-19-global-data.csv\") # READ THE DATASET\n",
    "df = pd.DataFrame(df)"
   ]
  },
  {
   "cell_type": "code",
   "execution_count": 2,
   "metadata": {},
   "outputs": [],
   "source": [
    "# WORKING ON OMAN\n",
    "df_countries = df.groupby(df[\"Country\"])\n",
    "\n",
    "# OMAN\n",
    "df_oman = df_countries.get_group(\"Oman\")\n",
    "df_oman = df_oman.reset_index(drop = True)\n",
    "df_oman = df_oman['Cumulative_cases']\n",
    "df_oman = pd.DataFrame(df_oman)"
   ]
  },
  {
   "cell_type": "code",
   "execution_count": 3,
   "metadata": {},
   "outputs": [],
   "source": [
    "#NORMALIZATION\n",
    "\n",
    "pop_o = 5107000\n",
    "\n",
    "df_oman[\"Cumulative_cases_norm\"] = df_oman[\"Cumulative_cases\"]/pop_o"
   ]
  },
  {
   "cell_type": "code",
   "execution_count": 4,
   "metadata": {},
   "outputs": [],
   "source": [
    "oman = df_oman"
   ]
  },
  {
   "cell_type": "code",
   "execution_count": 5,
   "metadata": {},
   "outputs": [],
   "source": [
    "i = 0\n",
    "while i < 103:\n",
    "    oman = oman.drop(oman.index[0])\n",
    "    i = i + 1\n",
    "\n",
    "oman = oman.reset_index(drop = True)"
   ]
  },
  {
   "cell_type": "code",
   "execution_count": 6,
   "metadata": {},
   "outputs": [],
   "source": [
    "oman[\"Cumulative_cases_norm\"] = oman[\"Cumulative_cases\"]/pop_o\n",
    "\n",
    "oman[\"log\"] = np.log(oman[\"Cumulative_cases_norm\"])"
   ]
  },
  {
   "cell_type": "markdown",
   "metadata": {},
   "source": [
    "# OMAN\n",
    "\n",
    "**log P = c + rt -------------------1**\n",
    "\n",
    "The first logistic of the exponential of the First wave of Kuwait is 48-100 (in days).\n",
    "\n",
    "Now from the graphs in the previous codes, we know that\n",
    "\n",
    "c = -6.035048\n",
    "\n",
    "t = 52\n",
    "\n",
    "log(P) = -4.252769 (from the log return graph at t = 30 and c = -6.328433)\n",
    "\n",
    "From 1,\n",
    "\n",
    "-4.252769 = -6.035048 + 52.r\n",
    "\n",
    "r = (-4.252769 + 6.035048)/52\n",
    "\n",
    "r = 0.017822"
   ]
  },
  {
   "cell_type": "code",
   "execution_count": 7,
   "metadata": {},
   "outputs": [],
   "source": [
    "r = 0.017822\n",
    "from scipy.integrate import odeint\n",
    "\n",
    "# Total population, n\n",
    "n = pop_o\n",
    "# Initial number of infected and recovered individuals, i_0 and r_0\n",
    "i_0 = oman[\"Cumulative_cases_norm\"][48]\n",
    "r_0 = oman[\"Cumulative_cases_norm\"][58]\n",
    "\n",
    "# beginning of the period s_0\n",
    "s_0 = 1 - i_0 - r_0"
   ]
  },
  {
   "cell_type": "code",
   "execution_count": 8,
   "metadata": {},
   "outputs": [],
   "source": [
    "# Assuming that people tend to recover within 10 days\n",
    "b = 0.1\n",
    "a = r + b"
   ]
  },
  {
   "cell_type": "code",
   "execution_count": 9,
   "metadata": {},
   "outputs": [],
   "source": [
    "t = np.linspace(0, 52, 52)\n",
    "# The SIR model differential equations.\n",
    "def deriv(y, t, a, b):\n",
    "    S, I, R = y\n",
    "    dSdt = - a * S * I\n",
    "    dIdt = a * (S * I) - (b * I)\n",
    "    dRdt = b * I\n",
    "    return dSdt, dIdt, dRdt\n",
    "\n",
    "y0 = s_0, i_0, r_0\n",
    "ret = odeint(deriv, y0, t, args=(a, b))\n",
    "S, I, R = ret.T"
   ]
  },
  {
   "cell_type": "code",
   "execution_count": 10,
   "metadata": {},
   "outputs": [
    {
     "data": {
      "image/png": "[encoded data removed]",
      "text/plain": [
       "<Figure size 432x288 with 1 Axes>"
      ]
     },
     "metadata": {
      "needs_background": "light"
     },
     "output_type": "display_data"
    }
   ],
   "source": [
    "s = pd.DataFrame()\n",
    "s[\"s\"] = S\n",
    "s[\"pred\"] = 1 - s[\"s\"]\n",
    "s[\"pred\"].plot(c = 'red', label = 'predicted')\n",
    "oman['Cumulative_cases_norm'][:52].plot(c = 'green', label = 'observed')\n",
    "plt.title(\"P = 1-S prediction for Oman for the First wave\")\n",
    "plt.xlabel(\"Number of days\")\n",
    "plt.legend()\n",
    "plt.show()"
   ]
  },
  {
   "cell_type": "code",
   "execution_count": null,
   "metadata": {},
   "outputs": [],
   "source": []
  }
 ],
 "metadata": {
  "kernelspec": {
   "display_name": "Python 3",
   "language": "python",
   "name": "python3"
  },
  "language_info": {
   "codemirror_mode": {
    "name": "ipython",
    "version": 3
   },
   "file_extension": ".py",
   "mimetype": "text/x-python",
   "name": "python",
   "nbconvert_exporter": "python",
   "pygments_lexer": "ipython3",
   "version": "3.8.3"
  }
 },
 "nbformat": 4,
 "nbformat_minor": 4
}

{
 "cells": [
  {
   "cell_type": "code",
   "execution_count": 1,
   "metadata": {},
   "outputs": [],
   "source": [
    "# IMPORT PANDAS\n",
    "import pandas as pd\n",
    "import matplotlib.pyplot as plt\n",
    "import numpy as np\n",
    "\n",
    "# READ THE CSV FILE\n",
    "df = pd.read_csv(\"WHO-COVID-19-global-data.csv\") # READ THE DATASET\n",
    "df = pd.DataFrame(df)"
   ]
  },
  {
   "cell_type": "code",
   "execution_count": 12,
   "metadata": {},
   "outputs": [],
   "source": [
    "# WORKING ON KUWAIT\n",
    "df_countries = df.groupby(df[\"Country\"])\n",
    "\n",
    "#KUWAIT\n",
    "df_kwt = df_countries.get_group(\"Kuwait\")\n",
    "df_kwt = df_kwt.reset_index(drop = True)\n",
    "df_kwt = df_kwt['Cumulative_cases']\n",
    "df_kwt = pd.DataFrame(df_kwt)"
   ]
  },
  {
   "cell_type": "code",
   "execution_count": 13,
   "metadata": {},
   "outputs": [],
   "source": [
    "#NORMALIZATION\n",
    "\n",
    "pop_k = 4271000\n",
    "\n",
    "df_kwt[\"Cumulative_cases_norm\"] = df_kwt[\"Cumulative_cases\"]/pop_k"
   ]
  },
  {
   "cell_type": "code",
   "execution_count": 14,
   "metadata": {},
   "outputs": [],
   "source": [
    "kt = df_kwt"
   ]
  },
  {
   "cell_type": "code",
   "execution_count": 15,
   "metadata": {},
   "outputs": [],
   "source": [
    "i = 0\n",
    "while i < 97:\n",
    "    kt = kt.drop(kt.index[0])\n",
    "    i = i + 1\n",
    "\n",
    "kt = kt.reset_index(drop = True)"
   ]
  },
  {
   "cell_type": "code",
   "execution_count": 16,
   "metadata": {},
   "outputs": [],
   "source": [
    "kt[\"Cumulative_cases_norm\"] = kt[\"Cumulative_cases\"]/pop_k\n",
    "\n",
    "kt[\"log\"] = np.log(kt[\"Cumulative_cases_norm\"])"
   ]
  },
  {
   "cell_type": "markdown",
   "metadata": {},
   "source": [
    "# KUWAIT\n",
    "\n",
    "**log P = c + rt -------------------1**\n",
    "\n",
    "The first exponential of the exponential of the First wave of Kuwait is 0-30 (in days).\n",
    "\n",
    "Now from the graphs in the previous codes, we know that\n",
    "\n",
    "c = -8.52118\n",
    "t = 30 (duration of the exponential)\n",
    "\n",
    "log(P) = -6.38441 (from the log return graph at t = 30)\n",
    "\n",
    "From 1,\n",
    "\n",
    "-6.38441 = -8.52118 + 30.r\n",
    "\n",
    "r = (-6.38441 + 8.52118)/30\n",
    "\n",
    "r = 0.07122"
   ]
  },
  {
   "cell_type": "code",
   "execution_count": 17,
   "metadata": {},
   "outputs": [],
   "source": [
    "r = 0.07122\n",
    "from scipy.integrate import odeint\n",
    "\n",
    "# Total population, n\n",
    "n = pop_k\n",
    "# Initial number of infected and recovered individuals, i_0 and r_0\n",
    "i_0 = kt[\"Cumulative_cases_norm\"][0]\n",
    "r_0 = 0\n",
    "\n",
    "# beginning of the period s_0\n",
    "s_0 = 1 - i_0 - r_0"
   ]
  },
  {
   "cell_type": "code",
   "execution_count": 18,
   "metadata": {},
   "outputs": [],
   "source": [
    "# Assuming that people tend to recover within 10 days\n",
    "b = 0.1\n",
    "a = r + b"
   ]
  },
  {
   "cell_type": "code",
   "execution_count": 19,
   "metadata": {},
   "outputs": [],
   "source": [
    "t = np.linspace(0, 30, 30)\n",
    "# The SIR model differential equations.\n",
    "def deriv(y, t, a, b):\n",
    "    S, I, R = y\n",
    "    dSdt = - a * S * I\n",
    "    dIdt = a * (S * I) - (b * I)\n",
    "    dRdt = b * I\n",
    "    return dSdt, dIdt, dRdt\n",
    "\n",
    "y0 = s_0, i_0, r_0\n",
    "ret = odeint(deriv, y0, t, args=(a, b))\n",
    "S, I, R = ret.T"
   ]
  },
  {
   "cell_type": "code",
   "execution_count": 20,
   "metadata": {},
   "outputs": [
    {
     "data": {
      "image/png": "[encoded data removed]",
      "text/plain": [
       "<Figure size 432x288 with 1 Axes>"
      ]
     },
     "metadata": {
      "needs_background": "light"
     },
     "output_type": "display_data"
    }
   ],
   "source": [
    "s = pd.DataFrame()\n",
    "s[\"s\"] = S\n",
    "s[\"pred\"] = 1 - s[\"s\"]\n",
    "s[\"pred\"].plot(c = 'red', label = 'predicted')\n",
    "kt['Cumulative_cases_norm'][:30].plot(c = 'green', label = 'observed')\n",
    "plt.title(\"P = 1-S prediction for Kuwait for the exponential of the First wave\")\n",
    "plt.xlabel(\"Number of days\")\n",
    "plt.legend()\n",
    "plt.show()"
   ]
  },
  {
   "cell_type": "code",
   "execution_count": null,
   "metadata": {},
   "outputs": [],
   "source": []
  },
  {
   "cell_type": "code",
   "execution_count": null,
   "metadata": {},
   "outputs": [],
   "source": []
  },
  {
   "cell_type": "code",
   "execution_count": null,
   "metadata": {},
   "outputs": [],
   "source": []
  }
 ],
 "metadata": {
  "kernelspec": {
   "display_name": "Python 3",
   "language": "python",
   "name": "python3"
  },
  "language_info": {
   "codemirror_mode": {
    "name": "ipython",
    "version": 3
   },
   "file_extension": ".py",
   "mimetype": "text/x-python",
   "name": "python",
   "nbconvert_exporter": "python",
   "pygments_lexer": "ipython3",
   "version": "3.8.3"
  }
 },
 "nbformat": 4,
 "nbformat_minor": 4
}
